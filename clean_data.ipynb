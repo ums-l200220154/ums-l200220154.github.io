{
 "cells": [
  {
   "cell_type": "code",
   "execution_count": 35,
   "id": "133d2f7b-397a-4faa-a63b-1b8ebccda843",
   "metadata": {},
   "outputs": [],
   "source": [
    "import pandas as pd\n",
    "import re"
   ]
  },
  {
   "cell_type": "code",
   "execution_count": 37,
   "id": "b3127b19-278f-45f7-aebd-46307ed8b7f4",
   "metadata": {},
   "outputs": [],
   "source": [
    "# Membaca data dan melewati baris yang rusak\n",
    "df = pd.read_csv('data_group.csv', encoding='latin1', on_bad_lines='skip')"
   ]
  },
  {
   "cell_type": "code",
   "execution_count": 39,
   "id": "d7f30e53-0b74-40f2-8719-f3617631091d",
   "metadata": {},
   "outputs": [
    {
     "data": {
      "text/html": [
       "<div>\n",
       "<style scoped>\n",
       "    .dataframe tbody tr th:only-of-type {\n",
       "        vertical-align: middle;\n",
       "    }\n",
       "\n",
       "    .dataframe tbody tr th {\n",
       "        vertical-align: top;\n",
       "    }\n",
       "\n",
       "    .dataframe thead th {\n",
       "        text-align: right;\n",
       "    }\n",
       "</style>\n",
       "<table border=\"1\" class=\"dataframe\">\n",
       "  <thead>\n",
       "    <tr style=\"text-align: right;\">\n",
       "      <th></th>\n",
       "      <th></th>\n",
       "      <th>text</th>\n",
       "    </tr>\n",
       "  </thead>\n",
       "  <tbody>\n",
       "    <tr>\n",
       "      <th>29/02/24 21.46 - Pesan dan panggilan dienkripsi secara end-to-end. Tidak seorang pun di luar chat ini</th>\n",
       "      <th>termasuk WhatsApp</th>\n",
       "      <td>yang dapat membaca atau mendengarkannya. Ketu...</td>\n",
       "    </tr>\n",
       "    <tr>\n",
       "      <th>25/10/22 07.41 - Û?Yudha Infor membuat grup \"Squad Satria Batang Hitam\"</th>\n",
       "      <th>NaN</th>\n",
       "      <td>NaN</td>\n",
       "    </tr>\n",
       "    <tr>\n",
       "      <th>29/02/24 21.46 - Û?Aldino menambahkan Anda</th>\n",
       "      <th>NaN</th>\n",
       "      <td>NaN</td>\n",
       "    </tr>\n",
       "    <tr>\n",
       "      <th>29/02/24 21.46 - Angsati0212: Kontol?Ù÷¥</th>\n",
       "      <th>NaN</th>\n",
       "      <td>NaN</td>\n",
       "    </tr>\n",
       "    <tr>\n",
       "      <th>29/02/24 21.46 - Aldino: opo cok</th>\n",
       "      <th>NaN</th>\n",
       "      <td>NaN</td>\n",
       "    </tr>\n",
       "  </tbody>\n",
       "</table>\n",
       "</div>"
      ],
      "text/plain": [
       "                                                                                                                    text\n",
       "29/02/24 21.46 - Pesan dan panggilan dienkripsi...  termasuk WhatsApp   yang dapat membaca atau mendengarkannya. Ketu...\n",
       "25/10/22 07.41 - Û?Yudha Infor membuat grup \"S... NaN                                                               NaN\n",
       "29/02/24 21.46 - Û?Aldino menambahkan Anda        NaN                                                               NaN\n",
       "29/02/24 21.46 - Angsati0212: Kontol?Ù÷¥           NaN                                                               NaN\n",
       "29/02/24 21.46 - Aldino: opo cok                   NaN                                                               NaN"
      ]
     },
     "execution_count": 39,
     "metadata": {},
     "output_type": "execute_result"
    }
   ],
   "source": [
    "df.head()\n"
   ]
  },
  {
   "cell_type": "code",
   "execution_count": 41,
   "id": "0ed8cdc1-7166-4562-aca6-0e82e24ffa54",
   "metadata": {},
   "outputs": [],
   "source": [
    "# Hapus baris yang kosong\n",
    "df = df.dropna(subset=['text'])  # Ganti 'text_column' dengan nama kolom teks Anda"
   ]
  },
  {
   "cell_type": "code",
   "execution_count": 47,
   "id": "0a15716e-c043-414d-b432-fdeed691a54a",
   "metadata": {},
   "outputs": [
    {
     "data": {
      "text/html": [
       "<div>\n",
       "<style scoped>\n",
       "    .dataframe tbody tr th:only-of-type {\n",
       "        vertical-align: middle;\n",
       "    }\n",
       "\n",
       "    .dataframe tbody tr th {\n",
       "        vertical-align: top;\n",
       "    }\n",
       "\n",
       "    .dataframe thead th {\n",
       "        text-align: right;\n",
       "    }\n",
       "</style>\n",
       "<table border=\"1\" class=\"dataframe\">\n",
       "  <thead>\n",
       "    <tr style=\"text-align: right;\">\n",
       "      <th></th>\n",
       "      <th></th>\n",
       "      <th>text</th>\n",
       "      <th>cleaned_text</th>\n",
       "    </tr>\n",
       "  </thead>\n",
       "  <tbody>\n",
       "    <tr>\n",
       "      <th>29/02/24 21.46 - Pesan dan panggilan dienkripsi secara end-to-end. Tidak seorang pun di luar chat ini</th>\n",
       "      <th>termasuk WhatsApp</th>\n",
       "      <td>yang dapat membaca atau mendengarkannya. Ketu...</td>\n",
       "      <td>yang dapat membaca atau mendengarkannya. Ketu...</td>\n",
       "    </tr>\n",
       "    <tr>\n",
       "      <th>01/03/24 17.38 - Aldino: dd = {'nama' : 'joko'</th>\n",
       "      <th>'umur':21</th>\n",
       "      <td>'asal' : 'surakarta'}</td>\n",
       "      <td>asal  surakarta</td>\n",
       "    </tr>\n",
       "    <tr>\n",
       "      <th>print(kunci</th>\n",
       "      <th>'&lt;--------'</th>\n",
       "      <td>dd[kunci])</td>\n",
       "      <td>ddkunci</td>\n",
       "    </tr>\n",
       "    <tr>\n",
       "      <th>01/03/24 17.47 - Aldino: def selesaikanABC(a</th>\n",
       "      <th>b</th>\n",
       "      <td>c):</td>\n",
       "      <td>c</td>\n",
       "    </tr>\n",
       "    <tr>\n",
       "      <th>k=selesaikanABC(a</th>\n",
       "      <th>b</th>\n",
       "      <td>c) # se</td>\n",
       "      <td>c  se</td>\n",
       "    </tr>\n",
       "  </tbody>\n",
       "</table>\n",
       "</div>"
      ],
      "text/plain": [
       "                                                                                                                    text  \\\n",
       "29/02/24 21.46 - Pesan dan panggilan dienkripsi...  termasuk WhatsApp   yang dapat membaca atau mendengarkannya. Ketu...   \n",
       "01/03/24 17.38 - Aldino: dd = {'nama' : 'joko'      'umur':21                                      'asal' : 'surakarta'}   \n",
       "print(kunci                                        '<--------'                                                dd[kunci])   \n",
       "01/03/24 17.47 - Aldino: def selesaikanABC(a       b                                                                 c):   \n",
       "k=selesaikanABC(a                                  b                                                             c) # se   \n",
       "\n",
       "                                                                                                            cleaned_text  \n",
       "29/02/24 21.46 - Pesan dan panggilan dienkripsi...  termasuk WhatsApp   yang dapat membaca atau mendengarkannya. Ketu...  \n",
       "01/03/24 17.38 - Aldino: dd = {'nama' : 'joko'      'umur':21                                            asal  surakarta  \n",
       "print(kunci                                        '<--------'                                                   ddkunci  \n",
       "01/03/24 17.47 - Aldino: def selesaikanABC(a       b                                                                   c  \n",
       "k=selesaikanABC(a                                  b                                                               c  se  "
      ]
     },
     "execution_count": 47,
     "metadata": {},
     "output_type": "execute_result"
    }
   ],
   "source": [
    "# Fungsi untuk membersihkan teks\n",
    "def clean_text(text):\n",
    "    # Hanya menyisakan huruf, angka, dan tanda baca\n",
    "    return re.sub(r'[^a-zA-Z0-9.,!? ]+', '', text)\n",
    "\n",
    "# Terapkan fungsi ke kolom teks\n",
    "df['cleaned_text'] = df['text'].apply(clean_text)\n",
    "\n",
    "# Tampilkan data yang sudah dibersihkan\n",
    "df.head()"
   ]
  },
  {
   "cell_type": "code",
   "execution_count": 49,
   "id": "4e153695-5f05-48d9-8630-dc155ad4ede7",
   "metadata": {},
   "outputs": [
    {
     "name": "stdout",
     "output_type": "stream",
     "text": [
      "Pembersihan selesai. Data disimpan di 'cleaned_data_group.csv'\n"
     ]
    }
   ],
   "source": [
    "# Simpan ke file CSV baru\n",
    "df.to_csv('cleaned_data_group.csv', index=False)\n",
    "\n",
    "print(\"Pembersihan selesai. Data disimpan di 'cleaned_data_group.csv'\")"
   ]
  },
  {
   "cell_type": "code",
   "execution_count": null,
   "id": "03903dce-5272-4c4f-b94a-126c8446e1b0",
   "metadata": {},
   "outputs": [],
   "source": []
  },
  {
   "cell_type": "code",
   "execution_count": null,
   "id": "6fd1ee68-ed8b-47a5-b16c-fe8105db93d1",
   "metadata": {},
   "outputs": [],
   "source": []
  }
 ],
 "metadata": {
  "kernelspec": {
   "display_name": "Python 3 (ipykernel)",
   "language": "python",
   "name": "python3"
  },
  "language_info": {
   "codemirror_mode": {
    "name": "ipython",
    "version": 3
   },
   "file_extension": ".py",
   "mimetype": "text/x-python",
   "name": "python",
   "nbconvert_exporter": "python",
   "pygments_lexer": "ipython3",
   "version": "3.12.4"
  }
 },
 "nbformat": 4,
 "nbformat_minor": 5
}
